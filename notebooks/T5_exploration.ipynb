{
 "cells": [
  {
   "cell_type": "code",
   "execution_count": null,
   "metadata": {},
   "outputs": [],
   "source": [
    "# installing huggingface libraries for dataset, models and metrics\n",
    "!pip install datasets transformers[sentencepiece] sacrebleu"
   ]
  }
 ],
 "metadata": {
  "kernelspec": {
   "display_name": "toxic-venv",
   "language": "python",
   "name": "python3"
  },
  "language_info": {
   "name": "python",
   "version": "3.10.13"
  }
 },
 "nbformat": 4,
 "nbformat_minor": 2
}
