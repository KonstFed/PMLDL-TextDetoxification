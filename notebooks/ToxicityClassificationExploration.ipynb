{
 "cells": [
  {
   "cell_type": "code",
   "execution_count": 2,
   "metadata": {},
   "outputs": [
    {
     "name": "stdout",
     "output_type": "stream",
     "text": [
      "/home/konstfed/Documents/Study/PMLDL/PMLDL-TextDetoxification\n"
     ]
    }
   ],
   "source": [
    "import sys, os\n",
    "os.chdir(os.path.dirname(os.path.abspath(\"./\")))\n",
    "print(os.getcwd())\n",
    "\n",
    "# SCRIPT_DIR = os.path.abspath(\".\")\n",
    "# print(SCRIPT_DIR)\n",
    "# sys.path.append(SCRIPT_DIR)\n",
    "# sys.path\n"
   ]
  },
  {
   "cell_type": "code",
   "execution_count": 2,
   "metadata": {},
   "outputs": [
    {
     "ename": "ModuleNotFoundError",
     "evalue": "No module named 'src'",
     "output_type": "error",
     "traceback": [
      "\u001b[0;31m---------------------------------------------------------------------------\u001b[0m",
      "\u001b[0;31mModuleNotFoundError\u001b[0m                       Traceback (most recent call last)",
      "\u001b[1;32m/home/konstfed/Documents/Study/PMLDL/PMLDL-TextDetoxification/notebooks/ToxicityClassificationExploration.ipynb Cell 2\u001b[0m line \u001b[0;36m4\n\u001b[1;32m      <a href='vscode-notebook-cell:/home/konstfed/Documents/Study/PMLDL/PMLDL-TextDetoxification/notebooks/ToxicityClassificationExploration.ipynb#W1sZmlsZQ%3D%3D?line=0'>1</a>\u001b[0m \u001b[39mimport\u001b[39;00m \u001b[39myaml\u001b[39;00m\n\u001b[1;32m      <a href='vscode-notebook-cell:/home/konstfed/Documents/Study/PMLDL/PMLDL-TextDetoxification/notebooks/ToxicityClassificationExploration.ipynb#W1sZmlsZQ%3D%3D?line=1'>2</a>\u001b[0m \u001b[39mfrom\u001b[39;00m \u001b[39maddict\u001b[39;00m \u001b[39mimport\u001b[39;00m Dict\n\u001b[0;32m----> <a href='vscode-notebook-cell:/home/konstfed/Documents/Study/PMLDL/PMLDL-TextDetoxification/notebooks/ToxicityClassificationExploration.ipynb#W1sZmlsZQ%3D%3D?line=3'>4</a>\u001b[0m \u001b[39mfrom\u001b[39;00m \u001b[39msrc\u001b[39;00m\u001b[39m.\u001b[39;00m\u001b[39mmodels\u001b[39;00m \u001b[39mimport\u001b[39;00m build_model\n\u001b[1;32m      <a href='vscode-notebook-cell:/home/konstfed/Documents/Study/PMLDL/PMLDL-TextDetoxification/notebooks/ToxicityClassificationExploration.ipynb#W1sZmlsZQ%3D%3D?line=4'>5</a>\u001b[0m \u001b[39mfrom\u001b[39;00m \u001b[39msrc\u001b[39;00m\u001b[39m.\u001b[39;00m\u001b[39minference\u001b[39;00m \u001b[39mimport\u001b[39;00m ToxicClassificationPipeline\n\u001b[1;32m      <a href='vscode-notebook-cell:/home/konstfed/Documents/Study/PMLDL/PMLDL-TextDetoxification/notebooks/ToxicityClassificationExploration.ipynb#W1sZmlsZQ%3D%3D?line=5'>6</a>\u001b[0m \u001b[39mfrom\u001b[39;00m \u001b[39msrc\u001b[39;00m \u001b[39mimport\u001b[39;00m preprocessing\n",
      "\u001b[0;31mModuleNotFoundError\u001b[0m: No module named 'src'"
     ]
    }
   ],
   "source": [
    "\n",
    "import yaml\n",
    "from addict import Dict\n",
    "\n",
    "from src.models import build_model\n",
    "from src.inference import ToxicClassificationPipeline\n",
    "from src import preprocessing\n",
    "\n",
    "sys.modules['preprocessing'] = preprocessing"
   ]
  },
  {
   "cell_type": "code",
   "execution_count": null,
   "metadata": {},
   "outputs": [],
   "source": [
    "with open(\"configs/sentence_toxic_cls/hard_labels.yaml\", \"r\") as f:\n",
    "    hard_config = Dict(yaml.safe_load(f))\n",
    "\n",
    "with open(\"configs/sentence_toxic_cls/soft_labels.yaml\", \"r\") as f:\n",
    "    soft_config = Dict(yaml.safe_load(f))\n",
    "\n",
    "soft_cls = Pipeline(soft_config) # BCEloss 0.45 on test\n",
    "hard_cls = Pipeline(hard_config) # BCEloss 0.46 on test"
   ]
  },
  {
   "cell_type": "code",
   "execution_count": null,
   "metadata": {},
   "outputs": [],
   "source": [
    "texts2analyze = [\n",
    "    \"Dear professor, For starters, We would like to emphasize that we greatly appreciate your collaboration and understanding so far: Extending the deadline of the first assignment, agreeing to the online format, answering our questions in the group chat (just to name a few). Furthermore, we cannot stress enough that this is by no means personal. The general attendance rate is low, due to multiple incremental factors like students having to work to support themselves, regardless of the course in question and if attendance is mandatory or not. We would also like to note that last week was midterms week with overlapping deadlines and that we don’t have a rich mathematical background like the students of MIPT, due to the industrial/practical nature of most courses at Innopolis; so, sometimes it is wiser to skip lecture and dedicate more time to go over not only lecture materials but necessary prerequisites to fill our knowledge gaps. It’s also important to note that if this course wasn’t important to us, there wouldn’t be that many students signing up for it (this is double the usual amount). We’re just doing the best we can with the starting state we were in and with the other workload of university/life.\",\n",
    "    \"Fucking kill you, For starters, We would like to emphasize that we greatly appreciate your collaboration and understanding so far: Extending the deadline of the first assignment, agreeing to the online format, answering our questions in the group chat (just to name a few). Furthermore, we cannot stress enough that this is by no means personal. The general attendance rate is low, due to multiple incremental factors like students having to work to support themselves, regardless of the course in question and if attendance is mandatory or not. We would also like to note that last week was midterms week with overlapping deadlines and that we don’t have a rich mathematical background like the students of MIPT, due to the industrial/practical nature of most courses at Innopolis; so, sometimes it is wiser to skip lecture and dedicate more time to go over not only lecture materials but necessary prerequisites to fill our knowledge gaps. It’s also important to note that if this course wasn’t important to us, there wouldn’t be that many students signing up for it (this is double the usual amount). We’re just doing the best we can with the starting state we were in and with the other\",\n",
    "    \"If you have not time to grade our works, why you think that we have enough time to write 7 pages of report with full-time work?\",\n",
    "    \"Also no bonus points for late grading. Half of works are not graded. The worst course at this moment\",\n",
    "]"
   ]
  },
  {
   "cell_type": "code",
   "execution_count": null,
   "metadata": {},
   "outputs": [
    {
     "name": "stdout",
     "output_type": "stream",
     "text": [
      "Text 1. soft label: tensor([6.4218e-05]), hard label: tensor([1.6167e-05])\n",
      "Text 2. soft label: tensor([0.0723]), hard label: tensor([0.0956])\n",
      "Text 3. soft label: tensor([0.0757]), hard label: tensor([0.0753])\n",
      "Text 4. soft label: tensor([0.4062]), hard label: tensor([0.4056])\n"
     ]
    }
   ],
   "source": [
    "for i, text in enumerate(texts2analyze,start=1):\n",
    "    soft_res = soft_cls.forward(text)\n",
    "    hard_res = hard_cls.forward(text)\n",
    "    print(f\"Text {i}. soft label: {soft_res}, hard label: {hard_res}\")"
   ]
  }
 ],
 "metadata": {
  "kernelspec": {
   "display_name": "toxic-venv",
   "language": "python",
   "name": "python3"
  },
  "language_info": {
   "codemirror_mode": {
    "name": "ipython",
    "version": 3
   },
   "file_extension": ".py",
   "mimetype": "text/x-python",
   "name": "python",
   "nbconvert_exporter": "python",
   "pygments_lexer": "ipython3",
   "version": "3.10.13"
  }
 },
 "nbformat": 4,
 "nbformat_minor": 2
}
