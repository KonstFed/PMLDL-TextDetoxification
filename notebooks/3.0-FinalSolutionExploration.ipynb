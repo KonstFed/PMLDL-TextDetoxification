{
 "cells": [
  {
   "cell_type": "code",
   "execution_count": 1,
   "metadata": {},
   "outputs": [
    {
     "name": "stdout",
     "output_type": "stream",
     "text": [
      "/home/konstfed/Documents/Study/PMLDL/PMLDL-TextDetoxification\n"
     ]
    }
   ],
   "source": [
    "import sys, os\n",
    "os.chdir(os.path.dirname(os.path.abspath(\"./\")))\n",
    "print(os.getcwd())"
   ]
  },
  {
   "cell_type": "code",
   "execution_count": 4,
   "metadata": {},
   "outputs": [],
   "source": [
    "\n",
    "import yaml\n",
    "from addict import Dict\n",
    "\n",
    "from src.inference import ParaphrasingTransformerPipeline\n",
    "from src import preprocessing\n",
    "\n",
    "sys.modules['preprocessing'] = preprocessing"
   ]
  },
  {
   "cell_type": "code",
   "execution_count": 5,
   "metadata": {},
   "outputs": [
    {
     "name": "stderr",
     "output_type": "stream",
     "text": [
      "/home/konstfed/Documents/Study/PMLDL/PMLDL-TextDetoxification/toxic-venv/lib/python3.10/site-packages/transformers/models/t5/tokenization_t5_fast.py:158: FutureWarning: This tokenizer was incorrectly instantiated with a model max length of 512 which will be corrected in Transformers v5.\n",
      "For now, this behavior is kept to avoid breaking backwards compatibility when padding/encoding with `truncation is True`.\n",
      "- Be aware that you SHOULD NOT rely on t5-base automatically truncating your input to 512 when padding/encoding.\n",
      "- If you want to encode/pad to sequences longer than 512 you can either instantiate this tokenizer with `model_max_length` or pass `max_length` when encoding/padding.\n",
      "- To avoid this warning, please instantiate this tokenizer with `model_max_length` set to your preferred value.\n",
      "  warnings.warn(\n"
     ]
    }
   ],
   "source": [
    "with open(\"./configs/parahrasing/t5baseline_inference.yaml\") as f:\n",
    "    config = Dict(yaml.safe_load(f))\n",
    "\n",
    "pipeline = ParaphrasingTransformerPipeline(config)"
   ]
  },
  {
   "cell_type": "code",
   "execution_count": 37,
   "metadata": {},
   "outputs": [],
   "source": [
    "text2analyze = [\n",
    "    \"Fuck\",\n",
    "    \"You are moron\",\n",
    "    \"This fucking moron is full of shit\",\n",
    "    \"I love dogs\",\n",
    "    \"Industrial street 45\",\n",
    "    \"Worthless piece of shit\",\n",
    "    \"You should kill yourself now\",\n",
    "    \"You should take a shower\",\n",
    "    \"This was so fucking great movie\",\n",
    "    \"Weather is shitty\",\n",
    "    \"Where is my money, bitch?\",\n",
    "    \"Return to home, dumbass\",\n",
    "    \"I would love to visit this theater\"    \n",
    "]"
   ]
  },
  {
   "cell_type": "code",
   "execution_count": 38,
   "metadata": {},
   "outputs": [
    {
     "name": "stdout",
     "output_type": "stream",
     "text": [
      "Fuck ---> oh, hell.\n",
      "\n",
      "You are moron ---> you're a nut.\n",
      "\n",
      "This fucking moron is full of shit ---> this guy is full of nonsense.\n",
      "\n",
      "I love dogs ---> I love dogs.\n",
      "\n",
      "Industrial street 45 ---> industrial street 45\n",
      "\n",
      "Worthless piece of shit ---> nothing but a worthless piece of rag.\n",
      "\n",
      "You should kill yourself now ---> you should do it now.\n",
      "\n",
      "You should take a shower ---> you should take a shower.\n",
      "\n",
      "This was so fucking great movie ---> this was a really great movie.\n",
      "\n",
      "Weather is shitty ---> the weather is terrible.\n",
      "\n",
      "Where is my money, bitch? ---> where's my money?\n",
      "\n",
      "Return to home, dumbass ---> go home, man.\n",
      "\n",
      "I would love to visit this theater ---> I'd like to visit the theater.\n",
      "\n"
     ]
    }
   ],
   "source": [
    "for text in text2analyze:\n",
    "    result = pipeline.forward(text)\n",
    "    print(f\"{text} ---> {result[0]}\")\n",
    "    print()"
   ]
  }
 ],
 "metadata": {
  "kernelspec": {
   "display_name": "toxic-venv",
   "language": "python",
   "name": "python3"
  },
  "language_info": {
   "codemirror_mode": {
    "name": "ipython",
    "version": 3
   },
   "file_extension": ".py",
   "mimetype": "text/x-python",
   "name": "python",
   "nbconvert_exporter": "python",
   "pygments_lexer": "ipython3",
   "version": "3.10.13"
  }
 },
 "nbformat": 4,
 "nbformat_minor": 2
}
